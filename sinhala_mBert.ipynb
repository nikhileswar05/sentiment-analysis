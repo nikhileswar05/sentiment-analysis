{
 "cells": [
  {
   "cell_type": "code",
   "execution_count": 1,
   "metadata": {},
   "outputs": [
    {
     "name": "stdout",
     "output_type": "stream",
     "text": [
      "Requirement already satisfied: simpletransformers in c:\\users\\nanih\\anaconda3\\lib\\site-packages (0.70.1)\n",
      "Requirement already satisfied: pandas in c:\\users\\nanih\\anaconda3\\lib\\site-packages (2.2.3)\n",
      "Requirement already satisfied: scikit-learn in c:\\users\\nanih\\anaconda3\\lib\\site-packages (1.6.0)\n",
      "Requirement already satisfied: torch in c:\\users\\nanih\\anaconda3\\lib\\site-packages (2.6.0)\n",
      "Requirement already satisfied: numpy in c:\\users\\nanih\\anaconda3\\lib\\site-packages (from simpletransformers) (1.26.4)\n",
      "Requirement already satisfied: requests in c:\\users\\nanih\\anaconda3\\lib\\site-packages (from simpletransformers) (2.32.2)\n",
      "Requirement already satisfied: tqdm>=4.47.0 in c:\\users\\nanih\\anaconda3\\lib\\site-packages (from simpletransformers) (4.66.4)\n",
      "Requirement already satisfied: regex in c:\\users\\nanih\\anaconda3\\lib\\site-packages (from simpletransformers) (2023.10.3)\n",
      "Requirement already satisfied: transformers>=4.31.0 in c:\\users\\nanih\\anaconda3\\lib\\site-packages (from simpletransformers) (4.49.0)\n",
      "Requirement already satisfied: datasets in c:\\users\\nanih\\anaconda3\\lib\\site-packages (from simpletransformers) (3.3.1)\n",
      "Requirement already satisfied: scipy in c:\\users\\nanih\\anaconda3\\lib\\site-packages (from simpletransformers) (1.13.1)\n",
      "Requirement already satisfied: seqeval in c:\\users\\nanih\\anaconda3\\lib\\site-packages (from simpletransformers) (1.2.2)\n",
      "Requirement already satisfied: tensorboard in c:\\users\\nanih\\anaconda3\\lib\\site-packages (from simpletransformers) (2.17.1)\n",
      "Requirement already satisfied: tensorboardx in c:\\users\\nanih\\anaconda3\\lib\\site-packages (from simpletransformers) (2.6.2.2)\n",
      "Requirement already satisfied: tokenizers in c:\\users\\nanih\\anaconda3\\lib\\site-packages (from simpletransformers) (0.21.0)\n",
      "Requirement already satisfied: wandb>=0.10.32 in c:\\users\\nanih\\anaconda3\\lib\\site-packages (from simpletransformers) (0.19.6)\n",
      "Requirement already satisfied: streamlit in c:\\users\\nanih\\anaconda3\\lib\\site-packages (from simpletransformers) (1.32.0)\n",
      "Requirement already satisfied: sentencepiece in c:\\users\\nanih\\anaconda3\\lib\\site-packages (from simpletransformers) (0.2.0)\n",
      "Requirement already satisfied: python-dateutil>=2.8.2 in c:\\users\\nanih\\anaconda3\\lib\\site-packages (from pandas) (2.9.0.post0)\n",
      "Requirement already satisfied: pytz>=2020.1 in c:\\users\\nanih\\anaconda3\\lib\\site-packages (from pandas) (2024.1)\n",
      "Requirement already satisfied: tzdata>=2022.7 in c:\\users\\nanih\\anaconda3\\lib\\site-packages (from pandas) (2023.3)\n",
      "Requirement already satisfied: joblib>=1.2.0 in c:\\users\\nanih\\anaconda3\\lib\\site-packages (from scikit-learn) (1.4.2)\n",
      "Requirement already satisfied: threadpoolctl>=3.1.0 in c:\\users\\nanih\\anaconda3\\lib\\site-packages (from scikit-learn) (3.5.0)\n",
      "Requirement already satisfied: filelock in c:\\users\\nanih\\anaconda3\\lib\\site-packages (from torch) (3.13.1)\n",
      "Requirement already satisfied: typing-extensions>=4.10.0 in c:\\users\\nanih\\anaconda3\\lib\\site-packages (from torch) (4.12.2)\n",
      "Requirement already satisfied: networkx in c:\\users\\nanih\\anaconda3\\lib\\site-packages (from torch) (3.2.1)\n",
      "Requirement already satisfied: jinja2 in c:\\users\\nanih\\anaconda3\\lib\\site-packages (from torch) (3.1.4)\n",
      "Requirement already satisfied: fsspec in c:\\users\\nanih\\anaconda3\\lib\\site-packages (from torch) (2024.3.1)\n",
      "Requirement already satisfied: setuptools in c:\\users\\nanih\\anaconda3\\lib\\site-packages (from torch) (69.5.1)\n",
      "Requirement already satisfied: sympy==1.13.1 in c:\\users\\nanih\\anaconda3\\lib\\site-packages (from torch) (1.13.1)\n",
      "Requirement already satisfied: mpmath<1.4,>=1.1.0 in c:\\users\\nanih\\anaconda3\\lib\\site-packages (from sympy==1.13.1->torch) (1.3.0)\n",
      "Requirement already satisfied: six>=1.5 in c:\\users\\nanih\\anaconda3\\lib\\site-packages (from python-dateutil>=2.8.2->pandas) (1.16.0)\n",
      "Requirement already satisfied: colorama in c:\\users\\nanih\\anaconda3\\lib\\site-packages (from tqdm>=4.47.0->simpletransformers) (0.4.6)\n",
      "Requirement already satisfied: huggingface-hub<1.0,>=0.26.0 in c:\\users\\nanih\\anaconda3\\lib\\site-packages (from transformers>=4.31.0->simpletransformers) (0.29.1)\n",
      "Requirement already satisfied: packaging>=20.0 in c:\\users\\nanih\\anaconda3\\lib\\site-packages (from transformers>=4.31.0->simpletransformers) (23.2)\n",
      "Requirement already satisfied: pyyaml>=5.1 in c:\\users\\nanih\\anaconda3\\lib\\site-packages (from transformers>=4.31.0->simpletransformers) (6.0.1)\n",
      "Requirement already satisfied: safetensors>=0.4.1 in c:\\users\\nanih\\anaconda3\\lib\\site-packages (from transformers>=4.31.0->simpletransformers) (0.5.2)\n",
      "Requirement already satisfied: click!=8.0.0,>=7.1 in c:\\users\\nanih\\anaconda3\\lib\\site-packages (from wandb>=0.10.32->simpletransformers) (8.1.7)\n",
      "Requirement already satisfied: docker-pycreds>=0.4.0 in c:\\users\\nanih\\anaconda3\\lib\\site-packages (from wandb>=0.10.32->simpletransformers) (0.4.0)\n",
      "Requirement already satisfied: gitpython!=3.1.29,>=1.0.0 in c:\\users\\nanih\\anaconda3\\lib\\site-packages (from wandb>=0.10.32->simpletransformers) (3.1.37)\n",
      "Requirement already satisfied: platformdirs in c:\\users\\nanih\\anaconda3\\lib\\site-packages (from wandb>=0.10.32->simpletransformers) (3.10.0)\n",
      "Requirement already satisfied: protobuf!=4.21.0,!=5.28.0,<6,>=3.19.0 in c:\\users\\nanih\\anaconda3\\lib\\site-packages (from wandb>=0.10.32->simpletransformers) (3.20.3)\n",
      "Requirement already satisfied: psutil>=5.0.0 in c:\\users\\nanih\\appdata\\roaming\\python\\python312\\site-packages (from wandb>=0.10.32->simpletransformers) (6.0.0)\n",
      "Requirement already satisfied: pydantic<3,>=2.6 in c:\\users\\nanih\\anaconda3\\lib\\site-packages (from wandb>=0.10.32->simpletransformers) (2.10.6)\n",
      "Requirement already satisfied: sentry-sdk>=2.0.0 in c:\\users\\nanih\\anaconda3\\lib\\site-packages (from wandb>=0.10.32->simpletransformers) (2.22.0)\n",
      "Requirement already satisfied: setproctitle in c:\\users\\nanih\\anaconda3\\lib\\site-packages (from wandb>=0.10.32->simpletransformers) (1.3.4)\n",
      "Requirement already satisfied: charset-normalizer<4,>=2 in c:\\users\\nanih\\anaconda3\\lib\\site-packages (from requests->simpletransformers) (2.0.4)\n",
      "Requirement already satisfied: idna<4,>=2.5 in c:\\users\\nanih\\anaconda3\\lib\\site-packages (from requests->simpletransformers) (3.7)\n",
      "Requirement already satisfied: urllib3<3,>=1.21.1 in c:\\users\\nanih\\anaconda3\\lib\\site-packages (from requests->simpletransformers) (2.2.2)\n",
      "Requirement already satisfied: certifi>=2017.4.17 in c:\\users\\nanih\\anaconda3\\lib\\site-packages (from requests->simpletransformers) (2024.8.30)\n",
      "Requirement already satisfied: pyarrow>=15.0.0 in c:\\users\\nanih\\anaconda3\\lib\\site-packages (from datasets->simpletransformers) (19.0.1)\n",
      "Requirement already satisfied: dill<0.3.9,>=0.3.0 in c:\\users\\nanih\\anaconda3\\lib\\site-packages (from datasets->simpletransformers) (0.3.8)\n",
      "Requirement already satisfied: xxhash in c:\\users\\nanih\\anaconda3\\lib\\site-packages (from datasets->simpletransformers) (3.5.0)\n",
      "Requirement already satisfied: multiprocess<0.70.17 in c:\\users\\nanih\\anaconda3\\lib\\site-packages (from datasets->simpletransformers) (0.70.16)\n",
      "Requirement already satisfied: aiohttp in c:\\users\\nanih\\anaconda3\\lib\\site-packages (from datasets->simpletransformers) (3.9.5)\n",
      "Requirement already satisfied: MarkupSafe>=2.0 in c:\\users\\nanih\\anaconda3\\lib\\site-packages (from jinja2->torch) (2.1.3)\n",
      "Requirement already satisfied: altair<6,>=4.0 in c:\\users\\nanih\\anaconda3\\lib\\site-packages (from streamlit->simpletransformers) (5.0.1)\n",
      "Requirement already satisfied: blinker<2,>=1.0.0 in c:\\users\\nanih\\anaconda3\\lib\\site-packages (from streamlit->simpletransformers) (1.6.2)\n",
      "Requirement already satisfied: cachetools<6,>=4.0 in c:\\users\\nanih\\anaconda3\\lib\\site-packages (from streamlit->simpletransformers) (5.3.3)\n",
      "Requirement already satisfied: pillow<11,>=7.1.0 in c:\\users\\nanih\\anaconda3\\lib\\site-packages (from streamlit->simpletransformers) (10.3.0)\n",
      "Requirement already satisfied: rich<14,>=10.14.0 in c:\\users\\nanih\\anaconda3\\lib\\site-packages (from streamlit->simpletransformers) (13.3.5)\n",
      "Requirement already satisfied: tenacity<9,>=8.1.0 in c:\\users\\nanih\\anaconda3\\lib\\site-packages (from streamlit->simpletransformers) (8.2.2)\n",
      "Requirement already satisfied: toml<2,>=0.10.1 in c:\\users\\nanih\\anaconda3\\lib\\site-packages (from streamlit->simpletransformers) (0.10.2)\n",
      "Requirement already satisfied: pydeck<1,>=0.8.0b4 in c:\\users\\nanih\\anaconda3\\lib\\site-packages (from streamlit->simpletransformers) (0.8.0)\n",
      "Requirement already satisfied: tornado<7,>=6.0.3 in c:\\users\\nanih\\appdata\\roaming\\python\\python312\\site-packages (from streamlit->simpletransformers) (6.4.1)\n",
      "Requirement already satisfied: watchdog>=2.1.5 in c:\\users\\nanih\\anaconda3\\lib\\site-packages (from streamlit->simpletransformers) (4.0.1)\n",
      "Requirement already satisfied: absl-py>=0.4 in c:\\users\\nanih\\anaconda3\\lib\\site-packages (from tensorboard->simpletransformers) (2.1.0)\n",
      "Requirement already satisfied: grpcio>=1.48.2 in c:\\users\\nanih\\anaconda3\\lib\\site-packages (from tensorboard->simpletransformers) (1.66.1)\n",
      "Requirement already satisfied: markdown>=2.6.8 in c:\\users\\nanih\\anaconda3\\lib\\site-packages (from tensorboard->simpletransformers) (3.4.1)\n",
      "Requirement already satisfied: tensorboard-data-server<0.8.0,>=0.7.0 in c:\\users\\nanih\\anaconda3\\lib\\site-packages (from tensorboard->simpletransformers) (0.7.2)\n",
      "Requirement already satisfied: werkzeug>=1.0.1 in c:\\users\\nanih\\anaconda3\\lib\\site-packages (from tensorboard->simpletransformers) (3.0.3)\n",
      "Requirement already satisfied: jsonschema>=3.0 in c:\\users\\nanih\\anaconda3\\lib\\site-packages (from altair<6,>=4.0->streamlit->simpletransformers) (4.19.2)\n",
      "Requirement already satisfied: toolz in c:\\users\\nanih\\anaconda3\\lib\\site-packages (from altair<6,>=4.0->streamlit->simpletransformers) (0.12.0)\n",
      "Requirement already satisfied: aiosignal>=1.1.2 in c:\\users\\nanih\\anaconda3\\lib\\site-packages (from aiohttp->datasets->simpletransformers) (1.2.0)\n",
      "Requirement already satisfied: attrs>=17.3.0 in c:\\users\\nanih\\anaconda3\\lib\\site-packages (from aiohttp->datasets->simpletransformers) (23.1.0)\n",
      "Requirement already satisfied: frozenlist>=1.1.1 in c:\\users\\nanih\\anaconda3\\lib\\site-packages (from aiohttp->datasets->simpletransformers) (1.4.0)\n",
      "Requirement already satisfied: multidict<7.0,>=4.5 in c:\\users\\nanih\\anaconda3\\lib\\site-packages (from aiohttp->datasets->simpletransformers) (6.0.4)\n",
      "Requirement already satisfied: yarl<2.0,>=1.0 in c:\\users\\nanih\\anaconda3\\lib\\site-packages (from aiohttp->datasets->simpletransformers) (1.9.3)\n",
      "Requirement already satisfied: gitdb<5,>=4.0.1 in c:\\users\\nanih\\anaconda3\\lib\\site-packages (from gitpython!=3.1.29,>=1.0.0->wandb>=0.10.32->simpletransformers) (4.0.7)\n",
      "Requirement already satisfied: annotated-types>=0.6.0 in c:\\users\\nanih\\anaconda3\\lib\\site-packages (from pydantic<3,>=2.6->wandb>=0.10.32->simpletransformers) (0.6.0)\n",
      "Requirement already satisfied: pydantic-core==2.27.2 in c:\\users\\nanih\\anaconda3\\lib\\site-packages (from pydantic<3,>=2.6->wandb>=0.10.32->simpletransformers) (2.27.2)\n",
      "Requirement already satisfied: markdown-it-py<3.0.0,>=2.2.0 in c:\\users\\nanih\\anaconda3\\lib\\site-packages (from rich<14,>=10.14.0->streamlit->simpletransformers) (2.2.0)\n",
      "Requirement already satisfied: pygments<3.0.0,>=2.13.0 in c:\\users\\nanih\\anaconda3\\lib\\site-packages (from rich<14,>=10.14.0->streamlit->simpletransformers) (2.15.1)\n",
      "Requirement already satisfied: smmap<5,>=3.0.1 in c:\\users\\nanih\\anaconda3\\lib\\site-packages (from gitdb<5,>=4.0.1->gitpython!=3.1.29,>=1.0.0->wandb>=0.10.32->simpletransformers) (4.0.0)\n",
      "Requirement already satisfied: jsonschema-specifications>=2023.03.6 in c:\\users\\nanih\\anaconda3\\lib\\site-packages (from jsonschema>=3.0->altair<6,>=4.0->streamlit->simpletransformers) (2023.7.1)\n",
      "Requirement already satisfied: referencing>=0.28.4 in c:\\users\\nanih\\anaconda3\\lib\\site-packages (from jsonschema>=3.0->altair<6,>=4.0->streamlit->simpletransformers) (0.30.2)\n",
      "Requirement already satisfied: rpds-py>=0.7.1 in c:\\users\\nanih\\anaconda3\\lib\\site-packages (from jsonschema>=3.0->altair<6,>=4.0->streamlit->simpletransformers) (0.10.6)\n",
      "Requirement already satisfied: mdurl~=0.1 in c:\\users\\nanih\\anaconda3\\lib\\site-packages (from markdown-it-py<3.0.0,>=2.2.0->rich<14,>=10.14.0->streamlit->simpletransformers) (0.1.0)\n"
     ]
    }
   ],
   "source": [
    "!pip install simpletransformers pandas scikit-learn torch"
   ]
  },
  {
   "cell_type": "code",
   "execution_count": 2,
   "metadata": {},
   "outputs": [],
   "source": [
    "import pandas as pd\n",
    "import torch\n",
    "from simpletransformers.classification import ClassificationModel, ClassificationArgs\n",
    "from sklearn.model_selection import train_test_split\n",
    "from sklearn.metrics import accuracy_score, classification_report"
   ]
  },
  {
   "cell_type": "code",
   "execution_count": 3,
   "metadata": {},
   "outputs": [
    {
     "name": "stdout",
     "output_type": "stream",
     "text": [
      "Using device: cpu\n"
     ]
    }
   ],
   "source": [
    "device = \"cuda\" if torch.cuda.is_available() else \"cpu\"\n",
    "print(\"Using device:\", device)"
   ]
  },
  {
   "cell_type": "code",
   "execution_count": 4,
   "metadata": {},
   "outputs": [],
   "source": [
    "sentence_df = pd.read_csv(\"sentence-level-annotation.csv\")"
   ]
  },
  {
   "cell_type": "code",
   "execution_count": 5,
   "metadata": {},
   "outputs": [
    {
     "name": "stdout",
     "output_type": "stream",
     "text": [
      "Dataset Preview:\n"
     ]
    },
    {
     "data": {
      "text/html": [
       "<div>\n",
       "<style scoped>\n",
       "    .dataframe tbody tr th:only-of-type {\n",
       "        vertical-align: middle;\n",
       "    }\n",
       "\n",
       "    .dataframe tbody tr th {\n",
       "        vertical-align: top;\n",
       "    }\n",
       "\n",
       "    .dataframe thead th {\n",
       "        text-align: right;\n",
       "    }\n",
       "</style>\n",
       "<table border=\"1\" class=\"dataframe\">\n",
       "  <thead>\n",
       "    <tr style=\"text-align: right;\">\n",
       "      <th></th>\n",
       "      <th>Unnamed: 0</th>\n",
       "      <th>Sentence</th>\n",
       "      <th>Hate_speech</th>\n",
       "      <th>Sentiment</th>\n",
       "      <th>Humor</th>\n",
       "      <th>Billing or price</th>\n",
       "      <th>Customer service</th>\n",
       "      <th>Data</th>\n",
       "      <th>Network</th>\n",
       "      <th>Package</th>\n",
       "      <th>Service or product</th>\n",
       "      <th>None</th>\n",
       "    </tr>\n",
       "  </thead>\n",
       "  <tbody>\n",
       "    <tr>\n",
       "      <th>0</th>\n",
       "      <td>0</td>\n",
       "      <td>Ammage Adarayta❤️Eka Dawasak Madi Neda❤️🙏❤️</td>\n",
       "      <td>Not offensive</td>\n",
       "      <td>Negative</td>\n",
       "      <td>Non-humorous</td>\n",
       "      <td>0</td>\n",
       "      <td>0</td>\n",
       "      <td>0</td>\n",
       "      <td>0</td>\n",
       "      <td>0</td>\n",
       "      <td>0</td>\n",
       "      <td>1</td>\n",
       "    </tr>\n",
       "    <tr>\n",
       "      <th>1</th>\n",
       "      <td>1</td>\n",
       "      <td>We need IPL Champions leak data offers ..pleas...</td>\n",
       "      <td>Not offensive</td>\n",
       "      <td>Neutral</td>\n",
       "      <td>Non-humorous</td>\n",
       "      <td>0</td>\n",
       "      <td>0</td>\n",
       "      <td>1</td>\n",
       "      <td>0</td>\n",
       "      <td>0</td>\n",
       "      <td>0</td>\n",
       "      <td>0</td>\n",
       "    </tr>\n",
       "    <tr>\n",
       "      <th>2</th>\n",
       "      <td>2</td>\n",
       "      <td>#VPN #ummmaaa #proud_be</td>\n",
       "      <td>Not offensive</td>\n",
       "      <td>Neutral</td>\n",
       "      <td>Non-humorous</td>\n",
       "      <td>0</td>\n",
       "      <td>0</td>\n",
       "      <td>0</td>\n",
       "      <td>0</td>\n",
       "      <td>0</td>\n",
       "      <td>0</td>\n",
       "      <td>1</td>\n",
       "    </tr>\n",
       "    <tr>\n",
       "      <th>3</th>\n",
       "      <td>3</td>\n",
       "      <td>chandimal.. uuu thama mulu tem ekama kaaa gaha...</td>\n",
       "      <td>Not offensive</td>\n",
       "      <td>Positive</td>\n",
       "      <td>Non-humorous</td>\n",
       "      <td>0</td>\n",
       "      <td>0</td>\n",
       "      <td>0</td>\n",
       "      <td>0</td>\n",
       "      <td>0</td>\n",
       "      <td>0</td>\n",
       "      <td>1</td>\n",
       "    </tr>\n",
       "    <tr>\n",
       "      <th>4</th>\n",
       "      <td>4</td>\n",
       "      <td>Batzgo</td>\n",
       "      <td>Not offensive</td>\n",
       "      <td>Neutral</td>\n",
       "      <td>Non-humorous</td>\n",
       "      <td>0</td>\n",
       "      <td>0</td>\n",
       "      <td>0</td>\n",
       "      <td>0</td>\n",
       "      <td>0</td>\n",
       "      <td>0</td>\n",
       "      <td>1</td>\n",
       "    </tr>\n",
       "  </tbody>\n",
       "</table>\n",
       "</div>"
      ],
      "text/plain": [
       "   Unnamed: 0                                           Sentence  \\\n",
       "0           0        Ammage Adarayta❤️Eka Dawasak Madi Neda❤️🙏❤️   \n",
       "1           1  We need IPL Champions leak data offers ..pleas...   \n",
       "2           2                            #VPN #ummmaaa #proud_be   \n",
       "3           3  chandimal.. uuu thama mulu tem ekama kaaa gaha...   \n",
       "4           4                                             Batzgo   \n",
       "\n",
       "     Hate_speech Sentiment         Humor  Billing or price  Customer service  \\\n",
       "0  Not offensive  Negative  Non-humorous                 0                 0   \n",
       "1  Not offensive   Neutral  Non-humorous                 0                 0   \n",
       "2  Not offensive   Neutral  Non-humorous                 0                 0   \n",
       "3  Not offensive  Positive  Non-humorous                 0                 0   \n",
       "4  Not offensive   Neutral  Non-humorous                 0                 0   \n",
       "\n",
       "   Data  Network  Package  Service or product  None  \n",
       "0     0        0        0                   0     1  \n",
       "1     1        0        0                   0     0  \n",
       "2     0        0        0                   0     1  \n",
       "3     0        0        0                   0     1  \n",
       "4     0        0        0                   0     1  "
      ]
     },
     "metadata": {},
     "output_type": "display_data"
    }
   ],
   "source": [
    "print(\"Dataset Preview:\")\n",
    "display(sentence_df.head())"
   ]
  },
  {
   "cell_type": "code",
   "execution_count": 6,
   "metadata": {},
   "outputs": [],
   "source": [
    "sentence_df = sentence_df[['Sentence', 'Sentiment']]\n",
    "sentence_df.dropna(inplace=True)"
   ]
  },
  {
   "cell_type": "code",
   "execution_count": 7,
   "metadata": {},
   "outputs": [],
   "source": [
    "sentence_df.columns = sentence_df.columns.str.strip()"
   ]
  },
  {
   "cell_type": "code",
   "execution_count": 8,
   "metadata": {},
   "outputs": [],
   "source": [
    "sentence_df[\"Sentiment\"] = sentence_df[\"Sentiment\"].astype(str).str.strip()"
   ]
  },
  {
   "cell_type": "code",
   "execution_count": 9,
   "metadata": {},
   "outputs": [],
   "source": [
    "label_map = {\"Negative\": 0, \"Neutral\": 1, \"Positive\": 2}\n",
    "sentence_df[\"Sentiment\"] = sentence_df[\"Sentiment\"].map(label_map)"
   ]
  },
  {
   "cell_type": "code",
   "execution_count": 10,
   "metadata": {},
   "outputs": [],
   "source": [
    "sentence_df = sentence_df.dropna()"
   ]
  },
  {
   "cell_type": "code",
   "execution_count": 11,
   "metadata": {},
   "outputs": [],
   "source": [
    "sentence_df[\"Sentiment\"] = sentence_df[\"Sentiment\"].astype(int)"
   ]
  },
  {
   "cell_type": "code",
   "execution_count": 12,
   "metadata": {},
   "outputs": [
    {
     "name": "stdout",
     "output_type": "stream",
     "text": [
      "\n",
      "Dataset After Preprocessing:\n"
     ]
    },
    {
     "data": {
      "text/html": [
       "<div>\n",
       "<style scoped>\n",
       "    .dataframe tbody tr th:only-of-type {\n",
       "        vertical-align: middle;\n",
       "    }\n",
       "\n",
       "    .dataframe tbody tr th {\n",
       "        vertical-align: top;\n",
       "    }\n",
       "\n",
       "    .dataframe thead th {\n",
       "        text-align: right;\n",
       "    }\n",
       "</style>\n",
       "<table border=\"1\" class=\"dataframe\">\n",
       "  <thead>\n",
       "    <tr style=\"text-align: right;\">\n",
       "      <th></th>\n",
       "      <th>Sentence</th>\n",
       "      <th>Sentiment</th>\n",
       "    </tr>\n",
       "  </thead>\n",
       "  <tbody>\n",
       "    <tr>\n",
       "      <th>0</th>\n",
       "      <td>Ammage Adarayta❤️Eka Dawasak Madi Neda❤️🙏❤️</td>\n",
       "      <td>0</td>\n",
       "    </tr>\n",
       "    <tr>\n",
       "      <th>1</th>\n",
       "      <td>We need IPL Champions leak data offers ..pleas...</td>\n",
       "      <td>1</td>\n",
       "    </tr>\n",
       "    <tr>\n",
       "      <th>2</th>\n",
       "      <td>#VPN #ummmaaa #proud_be</td>\n",
       "      <td>1</td>\n",
       "    </tr>\n",
       "    <tr>\n",
       "      <th>3</th>\n",
       "      <td>chandimal.. uuu thama mulu tem ekama kaaa gaha...</td>\n",
       "      <td>2</td>\n",
       "    </tr>\n",
       "    <tr>\n",
       "      <th>4</th>\n",
       "      <td>Batzgo</td>\n",
       "      <td>1</td>\n",
       "    </tr>\n",
       "  </tbody>\n",
       "</table>\n",
       "</div>"
      ],
      "text/plain": [
       "                                            Sentence  Sentiment\n",
       "0        Ammage Adarayta❤️Eka Dawasak Madi Neda❤️🙏❤️          0\n",
       "1  We need IPL Champions leak data offers ..pleas...          1\n",
       "2                            #VPN #ummmaaa #proud_be          1\n",
       "3  chandimal.. uuu thama mulu tem ekama kaaa gaha...          2\n",
       "4                                             Batzgo          1"
      ]
     },
     "metadata": {},
     "output_type": "display_data"
    }
   ],
   "source": [
    "print(\"\\nDataset After Preprocessing:\")\n",
    "display(sentence_df.head())"
   ]
  },
  {
   "cell_type": "code",
   "execution_count": 13,
   "metadata": {},
   "outputs": [
    {
     "name": "stdout",
     "output_type": "stream",
     "text": [
      "\n",
      "Data Types:\n",
      "Sentence     object\n",
      "Sentiment     int32\n",
      "dtype: object\n"
     ]
    }
   ],
   "source": [
    "print(\"\\nData Types:\")\n",
    "print(sentence_df.dtypes)"
   ]
  },
  {
   "cell_type": "code",
   "execution_count": 14,
   "metadata": {},
   "outputs": [],
   "source": [
    "train_df, eval_df = train_test_split(sentence_df, test_size=0.2, random_state=42)"
   ]
  },
  {
   "cell_type": "code",
   "execution_count": 15,
   "metadata": {},
   "outputs": [
    {
     "name": "stdout",
     "output_type": "stream",
     "text": [
      "Training Samples: 10715\n",
      "Testing Samples: 2679\n"
     ]
    }
   ],
   "source": [
    "print(f\"Training Samples: {len(train_df)}\")\n",
    "print(f\"Testing Samples: {len(eval_df)}\")"
   ]
  },
  {
   "cell_type": "code",
   "execution_count": 16,
   "metadata": {},
   "outputs": [],
   "source": [
    "model_args = ClassificationArgs()\n",
    "model_args.num_train_epochs = 3\n",
    "model_args.train_batch_size = 16\n",
    "model_args.eval_batch_size = 16\n",
    "model_args.learning_rate = 2e-5\n",
    "model_args.overwrite_output_dir = True\n",
    "model_args.save_best_model = True\n",
    "model_args.evaluate_during_training = True\n",
    "model_args.save_eval_checkpoints = False\n",
    "model_args.save_model_every_epoch = False\n",
    "model_args.output_dir = \"mbert-sentiment-model\"\n",
    "model_args.best_model_dir = \"mbert-best-model\""
   ]
  },
  {
   "cell_type": "code",
   "execution_count": 20,
   "metadata": {},
   "outputs": [
    {
     "data": {
      "application/vnd.jupyter.widget-view+json": {
       "model_id": "08cd089009ea4fc190a17856bc41fcac",
       "version_major": 2,
       "version_minor": 0
      },
      "text/plain": [
       "model.safetensors:  23%|##3       | 168M/714M [00:00<?, ?B/s]"
      ]
     },
     "metadata": {},
     "output_type": "display_data"
    },
    {
     "name": "stderr",
     "output_type": "stream",
     "text": [
      "c:\\Users\\nanih\\anaconda3\\Lib\\site-packages\\huggingface_hub\\file_download.py:142: UserWarning: `huggingface_hub` cache-system uses symlinks by default to efficiently store duplicated files but your machine does not support them in C:\\Users\\nanih\\.cache\\huggingface\\hub\\models--bert-base-multilingual-cased. Caching files will still work but in a degraded version that might require more space on your disk. This warning can be disabled by setting the `HF_HUB_DISABLE_SYMLINKS_WARNING` environment variable. For more details, see https://huggingface.co/docs/huggingface_hub/how-to-cache#limitations.\n",
      "To support symlinks on Windows, you either need to activate Developer Mode or to run Python as an administrator. In order to activate developer mode, see this article: https://docs.microsoft.com/en-us/windows/apps/get-started/enable-your-device-for-development\n",
      "  warnings.warn(message)\n",
      "Some weights of BertForSequenceClassification were not initialized from the model checkpoint at bert-base-multilingual-cased and are newly initialized: ['classifier.bias', 'classifier.weight']\n",
      "You should probably TRAIN this model on a down-stream task to be able to use it for predictions and inference.\n"
     ]
    },
    {
     "data": {
      "application/vnd.jupyter.widget-view+json": {
       "model_id": "1b951c534a2c42d7a4941627f1ffcb4f",
       "version_major": 2,
       "version_minor": 0
      },
      "text/plain": [
       "tokenizer_config.json:   0%|          | 0.00/49.0 [00:00<?, ?B/s]"
      ]
     },
     "metadata": {},
     "output_type": "display_data"
    },
    {
     "data": {
      "application/vnd.jupyter.widget-view+json": {
       "model_id": "cfaa808c078e4764a94f0d0b0eef864e",
       "version_major": 2,
       "version_minor": 0
      },
      "text/plain": [
       "vocab.txt:   0%|          | 0.00/996k [00:00<?, ?B/s]"
      ]
     },
     "metadata": {},
     "output_type": "display_data"
    },
    {
     "data": {
      "application/vnd.jupyter.widget-view+json": {
       "model_id": "108645112e1e46aabfc9193e3f4db908",
       "version_major": 2,
       "version_minor": 0
      },
      "text/plain": [
       "tokenizer.json:   0%|          | 0.00/1.96M [00:00<?, ?B/s]"
      ]
     },
     "metadata": {},
     "output_type": "display_data"
    },
    {
     "name": "stdout",
     "output_type": "stream",
     "text": [
      "\n",
      "✅ Model Loaded Successfully!\n"
     ]
    }
   ],
   "source": [
    "model = ClassificationModel(\n",
    "    \"bert\", \"bert-base-multilingual-cased\",\n",
    "    num_labels=3,\n",
    "    args=model_args,\n",
    "    use_cuda=torch.cuda.is_available()\n",
    ")\n",
    "\n",
    "print(\"\\n✅ Model Loaded Successfully!\")"
   ]
  },
  {
   "cell_type": "code",
   "execution_count": 21,
   "metadata": {},
   "outputs": [
    {
     "name": "stdout",
     "output_type": "stream",
     "text": [
      "\n",
      "🚀 Training Started...\n"
     ]
    },
    {
     "name": "stderr",
     "output_type": "stream",
     "text": [
      "c:\\Users\\nanih\\anaconda3\\Lib\\site-packages\\simpletransformers\\classification\\classification_model.py:610: UserWarning: Dataframe headers not specified. Falling back to using column 0 as text and column 1 as labels.\n",
      "  warnings.warn(\n"
     ]
    },
    {
     "data": {
      "application/vnd.jupyter.widget-view+json": {
       "model_id": "f878981a6c794774a6f37adb61af7076",
       "version_major": 2,
       "version_minor": 0
      },
      "text/plain": [
       "  0%|          | 0/21 [00:00<?, ?it/s]"
      ]
     },
     "metadata": {},
     "output_type": "display_data"
    },
    {
     "data": {
      "application/vnd.jupyter.widget-view+json": {
       "model_id": "4aeb555aad414a238da347785da6b6a6",
       "version_major": 2,
       "version_minor": 0
      },
      "text/plain": [
       "Epoch:   0%|          | 0/3 [00:00<?, ?it/s]"
      ]
     },
     "metadata": {},
     "output_type": "display_data"
    },
    {
     "data": {
      "application/vnd.jupyter.widget-view+json": {
       "model_id": "c972501b5c2f47b6b25032e4e085f375",
       "version_major": 2,
       "version_minor": 0
      },
      "text/plain": [
       "Running Epoch 1 of 3:   0%|          | 0/670 [00:00<?, ?it/s]"
      ]
     },
     "metadata": {},
     "output_type": "display_data"
    },
    {
     "name": "stderr",
     "output_type": "stream",
     "text": [
      "c:\\Users\\nanih\\anaconda3\\Lib\\site-packages\\simpletransformers\\classification\\classification_model.py:1453: UserWarning: Dataframe headers not specified. Falling back to using column 0 as text and column 1 as labels.\n",
      "  warnings.warn(\n"
     ]
    },
    {
     "data": {
      "application/vnd.jupyter.widget-view+json": {
       "model_id": "23dcccdc953b44e7a9bf900d7e914d22",
       "version_major": 2,
       "version_minor": 0
      },
      "text/plain": [
       "  0%|          | 0/5 [00:00<?, ?it/s]"
      ]
     },
     "metadata": {},
     "output_type": "display_data"
    },
    {
     "data": {
      "application/vnd.jupyter.widget-view+json": {
       "model_id": "dd9bbb886e6d4ca1a77c0d5c196502d6",
       "version_major": 2,
       "version_minor": 0
      },
      "text/plain": [
       "Running Epoch 2 of 3:   0%|          | 0/670 [00:00<?, ?it/s]"
      ]
     },
     "metadata": {},
     "output_type": "display_data"
    },
    {
     "name": "stderr",
     "output_type": "stream",
     "text": [
      "c:\\Users\\nanih\\anaconda3\\Lib\\site-packages\\simpletransformers\\classification\\classification_model.py:1453: UserWarning: Dataframe headers not specified. Falling back to using column 0 as text and column 1 as labels.\n",
      "  warnings.warn(\n"
     ]
    },
    {
     "data": {
      "application/vnd.jupyter.widget-view+json": {
       "model_id": "c68aac9a18f846be906fec7f4ce2bd4b",
       "version_major": 2,
       "version_minor": 0
      },
      "text/plain": [
       "  0%|          | 0/5 [00:00<?, ?it/s]"
      ]
     },
     "metadata": {},
     "output_type": "display_data"
    },
    {
     "data": {
      "application/vnd.jupyter.widget-view+json": {
       "model_id": "65c3bac915e942f2bb07089aa3a54dd8",
       "version_major": 2,
       "version_minor": 0
      },
      "text/plain": [
       "Running Epoch 3 of 3:   0%|          | 0/670 [00:00<?, ?it/s]"
      ]
     },
     "metadata": {},
     "output_type": "display_data"
    },
    {
     "name": "stderr",
     "output_type": "stream",
     "text": [
      "c:\\Users\\nanih\\anaconda3\\Lib\\site-packages\\simpletransformers\\classification\\classification_model.py:1453: UserWarning: Dataframe headers not specified. Falling back to using column 0 as text and column 1 as labels.\n",
      "  warnings.warn(\n"
     ]
    },
    {
     "data": {
      "application/vnd.jupyter.widget-view+json": {
       "model_id": "2b8be0cb0a0e414686fed0160350501d",
       "version_major": 2,
       "version_minor": 0
      },
      "text/plain": [
       "  0%|          | 0/5 [00:00<?, ?it/s]"
      ]
     },
     "metadata": {},
     "output_type": "display_data"
    },
    {
     "name": "stderr",
     "output_type": "stream",
     "text": [
      "c:\\Users\\nanih\\anaconda3\\Lib\\site-packages\\simpletransformers\\classification\\classification_model.py:1453: UserWarning: Dataframe headers not specified. Falling back to using column 0 as text and column 1 as labels.\n",
      "  warnings.warn(\n"
     ]
    },
    {
     "data": {
      "application/vnd.jupyter.widget-view+json": {
       "model_id": "99b65bc81f5a4b3bb128dff17a577666",
       "version_major": 2,
       "version_minor": 0
      },
      "text/plain": [
       "  0%|          | 0/5 [00:00<?, ?it/s]"
      ]
     },
     "metadata": {},
     "output_type": "display_data"
    },
    {
     "data": {
      "text/plain": [
       "(2010,\n",
       " defaultdict(list,\n",
       "             {'global_step': [670, 1340, 2000, 2010],\n",
       "              'train_loss': [0.8991503119468689,\n",
       "               0.6450029015541077,\n",
       "               0.5102134943008423,\n",
       "               0.4914722442626953],\n",
       "              'mcc': [0.44112149838566117,\n",
       "               0.4971815694886369,\n",
       "               0.49849141941881797,\n",
       "               0.49911903524483503],\n",
       "              'eval_loss': [0.6347097381949425,\n",
       "               0.6101408862464485,\n",
       "               0.6530977715072888,\n",
       "               0.6529762708981123]}))"
      ]
     },
     "execution_count": 21,
     "metadata": {},
     "output_type": "execute_result"
    }
   ],
   "source": [
    "print(\"\\n🚀 Training Started...\")\n",
    "model.train_model(train_df, eval_df=eval_df)"
   ]
  },
  {
   "cell_type": "code",
   "execution_count": 22,
   "metadata": {},
   "outputs": [
    {
     "name": "stdout",
     "output_type": "stream",
     "text": [
      "\n",
      "🔍 Evaluating Model...\n"
     ]
    },
    {
     "name": "stderr",
     "output_type": "stream",
     "text": [
      "c:\\Users\\nanih\\anaconda3\\Lib\\site-packages\\simpletransformers\\classification\\classification_model.py:1453: UserWarning: Dataframe headers not specified. Falling back to using column 0 as text and column 1 as labels.\n",
      "  warnings.warn(\n"
     ]
    },
    {
     "data": {
      "application/vnd.jupyter.widget-view+json": {
       "model_id": "7f36587576894e6495578d150683be5b",
       "version_major": 2,
       "version_minor": 0
      },
      "text/plain": [
       "  0%|          | 0/5 [00:00<?, ?it/s]"
      ]
     },
     "metadata": {},
     "output_type": "display_data"
    },
    {
     "data": {
      "application/vnd.jupyter.widget-view+json": {
       "model_id": "a1595c1dfab0498c8c4d6ef61ca69018",
       "version_major": 2,
       "version_minor": 0
      },
      "text/plain": [
       "Running Evaluation:   0%|          | 0/168 [00:00<?, ?it/s]"
      ]
     },
     "metadata": {},
     "output_type": "display_data"
    }
   ],
   "source": [
    "print(\"\\n🔍 Evaluating Model...\")\n",
    "result, model_outputs, wrong_predictions = model.eval_model(eval_df, acc=accuracy_score)"
   ]
  },
  {
   "cell_type": "code",
   "execution_count": 23,
   "metadata": {},
   "outputs": [
    {
     "name": "stdout",
     "output_type": "stream",
     "text": [
      "\n",
      "Model Accuracy: 0.7499\n"
     ]
    }
   ],
   "source": [
    "print(f\"\\nModel Accuracy: {result['acc']:.4f}\")"
   ]
  },
  {
   "cell_type": "code",
   "execution_count": 24,
   "metadata": {},
   "outputs": [
    {
     "data": {
      "application/vnd.jupyter.widget-view+json": {
       "model_id": "f04ec0d481a745c6a7be59f6a16b0736",
       "version_major": 2,
       "version_minor": 0
      },
      "text/plain": [
       "  0%|          | 0/5 [00:00<?, ?it/s]"
      ]
     },
     "metadata": {},
     "output_type": "display_data"
    },
    {
     "data": {
      "application/vnd.jupyter.widget-view+json": {
       "model_id": "085528dae5e54432b79f8917a9564ac6",
       "version_major": 2,
       "version_minor": 0
      },
      "text/plain": [
       "  0%|          | 0/168 [00:00<?, ?it/s]"
      ]
     },
     "metadata": {},
     "output_type": "display_data"
    },
    {
     "name": "stdout",
     "output_type": "stream",
     "text": [
      "\n",
      "📊 Classification Report:\n",
      "\n",
      "              precision    recall  f1-score   support\n",
      "\n",
      "           0       0.66      0.64      0.65       734\n",
      "           1       0.80      0.83      0.82      1708\n",
      "           2       0.62      0.49      0.55       237\n",
      "\n",
      "    accuracy                           0.75      2679\n",
      "   macro avg       0.69      0.66      0.67      2679\n",
      "weighted avg       0.75      0.75      0.75      2679\n",
      "\n"
     ]
    }
   ],
   "source": [
    "predictions, raw_outputs = model.predict(eval_df[\"Sentence\"].tolist())\n",
    "print(\"\\n📊 Classification Report:\\n\")\n",
    "print(classification_report(eval_df[\"Sentiment\"], predictions))"
   ]
  },
  {
   "cell_type": "code",
   "execution_count": 25,
   "metadata": {},
   "outputs": [
    {
     "data": {
      "application/vnd.jupyter.widget-view+json": {
       "model_id": "4d47b728fc9145c6ada0f9d3c5ef5d1b",
       "version_major": 2,
       "version_minor": 0
      },
      "text/plain": [
       "0it [00:00, ?it/s]"
      ]
     },
     "metadata": {},
     "output_type": "display_data"
    },
    {
     "data": {
      "application/vnd.jupyter.widget-view+json": {
       "model_id": "ed1b1be3aa2a4e69aacfded1e7c03b40",
       "version_major": 2,
       "version_minor": 0
      },
      "text/plain": [
       "  0%|          | 0/1 [00:00<?, ?it/s]"
      ]
     },
     "metadata": {},
     "output_type": "display_data"
    }
   ],
   "source": [
    "sample_texts = [\"à¶¯à·à¶±à·Š à·ƒà·’à¶¸à·Š à¶‘à¶šà¶§ code à¶‘à¶šà¶šà·Š à¶‘à¶ºà·’ à¶‘à¶š à¶¸à·™à¶šà¶§ à¶¯à·“à¶½à· register click à¶šà¶»à¶±à·Šà¶±.\"]\n",
    "predictions, raw_outputs = model.predict(sample_texts)"
   ]
  },
  {
   "cell_type": "code",
   "execution_count": 26,
   "metadata": {},
   "outputs": [],
   "source": [
    "reverse_label_map = {0: \"Negative\", 1: \"Neutral\", 2: \"Positive\"}\n",
    "predictions = [reverse_label_map[p] for p in predictions]"
   ]
  },
  {
   "cell_type": "code",
   "execution_count": 27,
   "metadata": {},
   "outputs": [
    {
     "name": "stdout",
     "output_type": "stream",
     "text": [
      "\n",
      "💡 Sample Predictions:\n",
      "📝 Text: à¶¯à·à¶±à·Š à·ƒà·’à¶¸à·Š à¶‘à¶šà¶§ code à¶‘à¶šà¶šà·Š à¶‘à¶ºà·’ à¶‘à¶š à¶¸à·™à¶šà¶§ à¶¯à·“à¶½à· register click à¶šà¶»à¶±à·Šà¶±. --> Predicted Sentiment: Neutral\n"
     ]
    }
   ],
   "source": [
    "print(\"\\n💡 Sample Predictions:\")\n",
    "for text, pred in zip(sample_texts, predictions):\n",
    "    print(f\"📝 Text: {text} --> Predicted Sentiment: {pred}\")"
   ]
  },
  {
   "cell_type": "code",
   "execution_count": 28,
   "metadata": {},
   "outputs": [],
   "source": [
    "model.save_model(\"my_simpletransformers_model_mbert\")\n"
   ]
  }
 ],
 "metadata": {
  "kernelspec": {
   "display_name": "base",
   "language": "python",
   "name": "python3"
  },
  "language_info": {
   "codemirror_mode": {
    "name": "ipython",
    "version": 3
   },
   "file_extension": ".py",
   "mimetype": "text/x-python",
   "name": "python",
   "nbconvert_exporter": "python",
   "pygments_lexer": "ipython3",
   "version": "3.12.3"
  }
 },
 "nbformat": 4,
 "nbformat_minor": 2
}
